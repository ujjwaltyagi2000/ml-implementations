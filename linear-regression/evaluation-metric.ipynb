{
 "cells": [
  {
   "cell_type": "markdown",
   "id": "eb424c0c",
   "metadata": {},
   "source": [
    "# Why We Require Evaluation Metrics?\n",
    "\n",
    "Most beginners and practitioners most of the time do not bother about the model performance. The talk is about building a well-generalized model, Machine learning model cannot have 100 per cent efficiency otherwise the model is known as a biased model, which further includes the concept of overfitting and underfitting.\n",
    "\n",
    "It is necessary to obtain the accuracy on training data, But it is also important to get a genuine and approximate result on unseen data otherwise Model is of no use.\n",
    "\n",
    "So to build and deploy a generalized model we require to Evaluate the model on different regression model evaluation metrics. These metrics helps us to better optimize the performance, fine-tune it, and obtain a better result.\n",
    "\n",
    "If one metric is perfect, there is no need for multiple metrics. To understand the benefits and disadvantages of regression evaluation metrics for regression because different evaluation metric fits on a different set of a dataset."
   ]
  },
  {
   "cell_type": "markdown",
   "id": "da7d3deb",
   "metadata": {},
   "source": [
    "### Imports"
   ]
  },
  {
   "cell_type": "code",
   "execution_count": 37,
   "id": "46606ffc",
   "metadata": {},
   "outputs": [],
   "source": [
    "from sklearn.model_selection import train_test_split\n",
    "from sklearn.linear_model import LinearRegression\n",
    "import pandas as pd\n",
    "import numpy as np"
   ]
  },
  {
   "cell_type": "markdown",
   "id": "38eed143",
   "metadata": {},
   "source": [
    "### Dataset"
   ]
  },
  {
   "cell_type": "code",
   "execution_count": 38,
   "id": "e1cd2fcb",
   "metadata": {},
   "outputs": [
    {
     "data": {
      "text/html": [
       "<div>\n",
       "<style scoped>\n",
       "    .dataframe tbody tr th:only-of-type {\n",
       "        vertical-align: middle;\n",
       "    }\n",
       "\n",
       "    .dataframe tbody tr th {\n",
       "        vertical-align: top;\n",
       "    }\n",
       "\n",
       "    .dataframe thead th {\n",
       "        text-align: right;\n",
       "    }\n",
       "</style>\n",
       "<table border=\"1\" class=\"dataframe\">\n",
       "  <thead>\n",
       "    <tr style=\"text-align: right;\">\n",
       "      <th></th>\n",
       "      <th>cgpa</th>\n",
       "      <th>package</th>\n",
       "    </tr>\n",
       "  </thead>\n",
       "  <tbody>\n",
       "    <tr>\n",
       "      <th>0</th>\n",
       "      <td>6.89</td>\n",
       "      <td>3.26</td>\n",
       "    </tr>\n",
       "    <tr>\n",
       "      <th>1</th>\n",
       "      <td>5.12</td>\n",
       "      <td>1.98</td>\n",
       "    </tr>\n",
       "    <tr>\n",
       "      <th>2</th>\n",
       "      <td>7.82</td>\n",
       "      <td>3.25</td>\n",
       "    </tr>\n",
       "    <tr>\n",
       "      <th>3</th>\n",
       "      <td>7.42</td>\n",
       "      <td>3.67</td>\n",
       "    </tr>\n",
       "    <tr>\n",
       "      <th>4</th>\n",
       "      <td>6.94</td>\n",
       "      <td>3.57</td>\n",
       "    </tr>\n",
       "    <tr>\n",
       "      <th>5</th>\n",
       "      <td>7.89</td>\n",
       "      <td>2.99</td>\n",
       "    </tr>\n",
       "    <tr>\n",
       "      <th>6</th>\n",
       "      <td>6.73</td>\n",
       "      <td>2.60</td>\n",
       "    </tr>\n",
       "    <tr>\n",
       "      <th>7</th>\n",
       "      <td>6.75</td>\n",
       "      <td>2.48</td>\n",
       "    </tr>\n",
       "    <tr>\n",
       "      <th>8</th>\n",
       "      <td>6.09</td>\n",
       "      <td>2.31</td>\n",
       "    </tr>\n",
       "  </tbody>\n",
       "</table>\n",
       "</div>"
      ],
      "text/plain": [
       "   cgpa  package\n",
       "0  6.89     3.26\n",
       "1  5.12     1.98\n",
       "2  7.82     3.25\n",
       "3  7.42     3.67\n",
       "4  6.94     3.57\n",
       "5  7.89     2.99\n",
       "6  6.73     2.60\n",
       "7  6.75     2.48\n",
       "8  6.09     2.31"
      ]
     },
     "execution_count": 38,
     "metadata": {},
     "output_type": "execute_result"
    }
   ],
   "source": [
    "cgpa = [6.89, 5.12, 7.82, 7.42, 6.94, 7.89, 6.73, 6.75, 6.09]\n",
    "package = [3.26, 1.98, 3.25, 3.67, 3.57, 2.99, 2.6, 2.48, 2.31]\n",
    "df = pd.DataFrame({'cgpa' : cgpa, 'package' : package})\n",
    "df"
   ]
  },
  {
   "cell_type": "code",
   "execution_count": 39,
   "id": "7afe0876",
   "metadata": {},
   "outputs": [],
   "source": [
    "y = df['package']\n",
    "X = df.drop('package', axis = 1)"
   ]
  },
  {
   "cell_type": "code",
   "execution_count": 40,
   "id": "7a9fe8c7",
   "metadata": {},
   "outputs": [
    {
     "data": {
      "text/html": [
       "<div>\n",
       "<style scoped>\n",
       "    .dataframe tbody tr th:only-of-type {\n",
       "        vertical-align: middle;\n",
       "    }\n",
       "\n",
       "    .dataframe tbody tr th {\n",
       "        vertical-align: top;\n",
       "    }\n",
       "\n",
       "    .dataframe thead th {\n",
       "        text-align: right;\n",
       "    }\n",
       "</style>\n",
       "<table border=\"1\" class=\"dataframe\">\n",
       "  <thead>\n",
       "    <tr style=\"text-align: right;\">\n",
       "      <th></th>\n",
       "      <th>Input</th>\n",
       "      <th>Actual</th>\n",
       "      <th>Predicted</th>\n",
       "    </tr>\n",
       "  </thead>\n",
       "  <tbody>\n",
       "    <tr>\n",
       "      <th>0</th>\n",
       "      <td>6.75</td>\n",
       "      <td>2.48</td>\n",
       "      <td>2.935135</td>\n",
       "    </tr>\n",
       "    <tr>\n",
       "      <th>1</th>\n",
       "      <td>5.12</td>\n",
       "      <td>1.98</td>\n",
       "      <td>2.223827</td>\n",
       "    </tr>\n",
       "  </tbody>\n",
       "</table>\n",
       "</div>"
      ],
      "text/plain": [
       "   Input  Actual  Predicted\n",
       "0   6.75    2.48   2.935135\n",
       "1   5.12    1.98   2.223827"
      ]
     },
     "execution_count": 40,
     "metadata": {},
     "output_type": "execute_result"
    }
   ],
   "source": [
    "# X_train,X_test,y_train,y_test = train_test_split(X,y,test_size=0.2)\n",
    "# if random_state is not added, then the split will be different every time.\n",
    "X_train,X_test,y_train,y_test = train_test_split(X,y,test_size=0.2, random_state=42)\n",
    "lr = LinearRegression()\n",
    "lr.fit(X_train,y_train)\n",
    "y_pred = lr.predict(X_test)\n",
    "# resultant_df = pd.DataFrame({'Input': X_test, 'Actual' : y_test, 'Predicted' : y_pred})\n",
    "# the above code is incorrect as I was trying to assign a pandas series (x_test, y_test) and a numpy array as  values directly in a dictionary for pd.Dataframe().\n",
    "# Combine the components properly using pd.concat or by ensuring all components are Series or columns:\n",
    "resultant_df = pd.DataFrame({\n",
    "    'Input': X_test['cgpa'].values,\n",
    "    'Actual': y_test.values,\n",
    "    'Predicted': y_pred\n",
    "})\n",
    "\n",
    "resultant_df\n",
    "\n",
    "# OR\n",
    "\n",
    "# resultant_df = pd.concat(\n",
    "#     [X_test.reset_index(drop=True),\n",
    "#      y_test.reset_index(drop=True),\n",
    "#      pd.Series(y_pred, name='Predicted')],\n",
    "#     axis=1\n",
    "# )\n",
    "\n",
    "# resultant_df"
   ]
  },
  {
   "cell_type": "markdown",
   "id": "45169c78",
   "metadata": {},
   "source": []
  },
  {
   "cell_type": "markdown",
   "id": "4e8e1976",
   "metadata": {},
   "source": [
    "### 📐 Regression Evaluation Metrics\n",
    "\n",
    "#### 1. **Mean Absolute Error (MAE)**\n",
    "\n",
    "$$\n",
    "\\text{MAE} = \\frac{1}{n} \\sum_{i=1}^{n} \\left| y_i - \\hat{y}_i \\right|\n",
    "$$\n",
    "\n",
    "* Measures the average magnitude of errors in a set of predictions, without considering their direction.\n",
    "\n",
    "Advantages of MAE\n",
    "\n",
    "    - The MAE you get is in the same unit as the output variable.\n",
    "    - It is most Robust to outliers.\n",
    "\n",
    "Disadvantages of MAE\n",
    "\n",
    "    - The graph of MAE is not differentiable so we have to apply various optimizers like Gradient descent which can be differentiable.\n"
   ]
  },
  {
   "cell_type": "code",
   "execution_count": 41,
   "id": "068a75f3",
   "metadata": {},
   "outputs": [
    {
     "name": "stdout",
     "output_type": "stream",
     "text": [
      "MAE 0.34948076878599355\n"
     ]
    }
   ],
   "source": [
    "from sklearn.metrics import mean_absolute_error\n",
    "print(\"MAE\",mean_absolute_error(y_test,y_pred))"
   ]
  },
  {
   "cell_type": "markdown",
   "id": "ea53c0ee",
   "metadata": {},
   "source": [
    "\n",
    "\n",
    "#### 2. **Mean Squared Error (MSE)**\n",
    "\n",
    "$$\n",
    "\\text{MSE} = \\frac{1}{n} \\sum_{i=1}^{n} (y_i - \\hat{y}_i)^2\n",
    "$$\n",
    "\n",
    "* Penalizes larger errors more than MAE due to the squaring of differences.\n",
    "\n",
    "Advantages of MSE\n",
    "\n",
    "    - The graph of MSE is differentiable, so you can easily use it as a loss function.\n",
    "\n",
    "Disadvantages of MSE\n",
    "\n",
    "    - The value you get after calculating MSE is a squared unit of output. for example, the output variable is in meter(m) then after calculating MSE the output we get is in meter squared.\n",
    "    - If you have outliers in the dataset then it penalizes the outliers most and the calculated MSE is bigger. So, in short, It is not Robust to outliers which were an advantage in MAE."
   ]
  },
  {
   "cell_type": "code",
   "execution_count": 42,
   "id": "d546bc06",
   "metadata": {},
   "outputs": [
    {
     "name": "stdout",
     "output_type": "stream",
     "text": [
      "MSE 0.13329961457468248\n"
     ]
    }
   ],
   "source": [
    "from sklearn.metrics import mean_squared_error\n",
    "print(\"MSE\",mean_squared_error(y_test,y_pred))"
   ]
  },
  {
   "cell_type": "markdown",
   "id": "a8698230",
   "metadata": {},
   "source": [
    "#### 3. **Root Mean Squared Error (RMSE)**\n",
    "\n",
    "$$\n",
    "\\text{RMSE} = \\sqrt{\\frac{1}{n} \\sum_{i=1}^{n} (y_i - \\hat{y}_i)^2}\n",
    "$$\n",
    "\n",
    "* Same as MSE, but in the same units as the target variable.\n",
    "\n",
    "Advantages of RMSE\n",
    "\n",
    "     - The output value you get is in the same unit as the required output variable which makes interpretation of loss easy.\n",
    "\n",
    "Disadvantages of RMSE\n",
    "\n",
    "    - It is not that robust to outliers as compared to MAE."
   ]
  },
  {
   "cell_type": "code",
   "execution_count": 43,
   "id": "f3d1751a",
   "metadata": {},
   "outputs": [
    {
     "name": "stdout",
     "output_type": "stream",
     "text": [
      "RMSE 0.36510219743885747\n"
     ]
    }
   ],
   "source": [
    "print(\"RMSE\",np.sqrt(mean_squared_error(y_test,y_pred)))\n",
    "# print(\"RMSE\",(mean_squared_error(y_test,y_pred, squared=False)))"
   ]
  },
  {
   "cell_type": "markdown",
   "id": "1a04877e",
   "metadata": {},
   "source": [
    "#### 4. **R-squared (R²) – Coefficient of Determination**\n",
    "\n",
    "$$\n",
    "R^2 = 1 - \\frac{\\sum_{i=1}^{n} (y_i - \\hat{y}_i)^2}{\\sum_{i=1}^{n} (y_i - \\bar{y})^2}\n",
    "$$\n",
    "\n",
    "* Indicates the proportion of variance in the dependent variable that is predictable from the independent variable(s).\n",
    "* Values range from 0 to 1 (sometimes negative if the model is worse than the mean)."
   ]
  },
  {
   "cell_type": "code",
   "execution_count": 44,
   "id": "5def3c00",
   "metadata": {},
   "outputs": [
    {
     "name": "stdout",
     "output_type": "stream",
     "text": [
      "-1.1327938331949197\n"
     ]
    }
   ],
   "source": [
    "from sklearn.metrics import r2_score\n",
    "r2 = r2_score(y_test,y_pred)\n",
    "print(r2)"
   ]
  },
  {
   "cell_type": "code",
   "execution_count": 45,
   "id": "4603557d",
   "metadata": {},
   "outputs": [
    {
     "data": {
      "image/png": "[encoded data removed]",
      "text/plain": [
       "<Figure size 640x480 with 1 Axes>"
      ]
     },
     "metadata": {},
     "output_type": "display_data"
    }
   ],
   "source": [
    "# plot data and regression line\n",
    "import matplotlib.pyplot as plt\n",
    "\n",
    "plt.scatter(X_test, y_test)\n",
    "plt.plot(X_test, y_pred, color='red')\n",
    "plt.show()"
   ]
  },
  {
   "cell_type": "markdown",
   "id": "d6d91380",
   "metadata": {},
   "source": [
    "This explains the terrible R2 score"
   ]
  }
 ],
 "metadata": {
  "kernelspec": {
   "display_name": "manthan",
   "language": "python",
   "name": "python3"
  },
  "language_info": {
   "codemirror_mode": {
    "name": "ipython",
    "version": 3
   },
   "file_extension": ".py",
   "mimetype": "text/x-python",
   "name": "python",
   "nbconvert_exporter": "python",
   "pygments_lexer": "ipython3",
   "version": "3.12.3"
  }
 },
 "nbformat": 4,
 "nbformat_minor": 5
}
